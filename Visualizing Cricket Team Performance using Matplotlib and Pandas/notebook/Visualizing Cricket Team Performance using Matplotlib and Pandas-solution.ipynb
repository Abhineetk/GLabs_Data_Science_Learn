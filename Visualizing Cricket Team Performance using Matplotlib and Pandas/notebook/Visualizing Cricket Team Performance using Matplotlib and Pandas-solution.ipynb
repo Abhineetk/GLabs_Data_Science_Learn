{
 "cells": [
  {
   "cell_type": "markdown",
   "metadata": {},
   "source": [
    "# IPL Dataset Analysis\n",
    "\n",
    "## Problem Statement\n",
    "We want to know as to what happens during an IPL match which raises several questions in our mind with our limited knowledge about the game called cricket on which it is based. This analysis is done to know as which factors led one of the team to win and how does it matter.\n",
    "\n",
    "## About the Dataset :\n",
    "The Indian Premier League (IPL) is a professional T20 cricket league in India contested during April-May of every year by teams representing Indian cities. It is the most-attended cricket league in the world and ranks sixth among all the sports leagues. It has teams with players from around the world and is very competitive and entertaining with a lot of close matches between teams.\n",
    "\n",
    "The IPL and other cricket related datasets are available at [cricsheet.org](https://cricsheet.org). Feel free to visit the website and explore the data by yourself as exploring new sources of data is one of the interesting activities a data scientist gets to do.\n",
    "\n",
    "## About the dataset:\n",
    "Snapshot of the data you will be working on:<br>\n",
    "<br>\n",
    "The dataset 136522 data points and 23 features<br>\n",
    "\n",
    "|Features|Description|\n",
    "|-----|-----|\n",
    "|match_code|Code pertaining to individual match|\n",
    "|date|Date of the match played|\n",
    "|city|City where the match was played|\n",
    "|venue|Stadium in that city where the match was played|\n",
    "|team1|team1|\n",
    "|team2|team2|\n",
    "|toss_winner|Who won the toss out of two teams|\n",
    "|toss_decision|toss decision taken by toss winner|\n",
    "|winner|Winner of that match between two teams|\n",
    "|win_type|How did the team won(by wickets or runs etc.)|\n",
    "|win_margin|difference with which the team won| \n",
    "|inning|inning type(1st or 2nd)|\n",
    "|delivery|ball delivery|\n",
    "|batting_team|current team on batting|\n",
    "|batsman|current batsman on strike|\n",
    "|non_striker|batsman on non-strike|\n",
    "|bowler|Current bowler|\n",
    "|runs|runs scored|\n",
    "|extras|extra run scored|\n",
    "|total|total run scored on that delivery including runs and extras|\n",
    "|extras_type|extra run scored by wides or no ball or legby|\n",
    "|player_out|player that got out|\n",
    "|wicket_kind|How did the player got out|\n",
    "|wicket_fielders|Fielder who caught out the player by catch|\n",
    "\n"
   ]
  },
  {
   "cell_type": "code",
   "execution_count": null,
   "metadata": {},
   "outputs": [],
   "source": [
    "import pandas as pd \n",
    "import matplotlib.pyplot as plt\n",
    "import warnings\n",
    "warnings.filterwarnings('ignore')\n",
    "# Load the dataset and create column `year` which stores the year in which match was played\n",
    "data_ipl = pd.read_csv(path)\n",
    "data_ipl['year'] = data_ipl['date'].apply(lambda x : x[:4])"
   ]
  },
  {
   "cell_type": "markdown",
   "metadata": {},
   "source": [
    "### Plot the wins gained by teams across all seasons"
   ]
  },
  {
   "cell_type": "code",
   "execution_count": null,
   "metadata": {},
   "outputs": [],
   "source": [
    "# Plot the wins gained by teams across all seasons\n",
    "match_wise_data = data_ipl.drop_duplicates(subset='match_code', keep='first').reset_index(drop=True)\n",
    "total_wins = match_wise_data['winner'].value_counts() \n",
    "plot = total_wins.plot(kind='bar', title = \"Total no. of wins across seasons 2008-2016\", figsize=(7,5))\n",
    "plt.xticks(fontsize =10 , rotation=90);"
   ]
  },
  {
   "cell_type": "markdown",
   "metadata": {},
   "source": [
    "### Plot Number of matches played by each team through all seasons"
   ]
  },
  {
   "cell_type": "code",
   "execution_count": null,
   "metadata": {},
   "outputs": [],
   "source": [
    "# Plot Number of matches played by each team through all seasons\n",
    "temp_data = pd.melt(match_wise_data, id_vars=['match_code', 'year'], value_vars= ['team1', 'team2'])\n",
    "matches_played = temp_data.value.value_counts()\n",
    "plt.figure(figsize=(12,6))\n",
    "matches_played.plot(x= matches_played.index, y = matches_played, kind = 'bar', title= 'No. of matches played across 9 seasons')\n",
    "plt.xticks(rotation = 'vertical')\n",
    "plt.show()\n"
   ]
  },
  {
   "cell_type": "markdown",
   "metadata": {},
   "source": [
    "### Performance of top bowlers over seasons"
   ]
  },
  {
   "cell_type": "code",
   "execution_count": null,
   "metadata": {},
   "outputs": [],
   "source": [
    "# Performance of top bowlers over seasons\n",
    "wickets = data_ipl[(data_ipl['wicket_kind']=='bowled')|(data_ipl['wicket_kind']=='caught')|(data_ipl['wicket_kind']=='lbw')|(data_ipl['wicket_kind']=='caught and bowled')]\n",
    "bowlers_wickets = wickets.groupby(['bowler'])['wicket_kind'].count()\n",
    "\n",
    "bowlers_wickets.sort_values(ascending = False, inplace = True)\n",
    "\n",
    "bowlers_wickets[:10].plot(x= bowlers_wickets.index, y = bowlers_wickets, kind = 'barh', colormap = 'Accent');\n"
   ]
  },
  {
   "cell_type": "markdown",
   "metadata": {},
   "source": [
    "### How did the different pitches behave? What was the average score for each stadium?"
   ]
  },
  {
   "cell_type": "code",
   "execution_count": null,
   "metadata": {},
   "outputs": [],
   "source": [
    "score_per_venue = data_ipl.loc[:, ['match_code', 'venue', 'inning', 'total']]\n",
    "average_score_per_venue = score_per_venue.groupby(['match_code', 'venue', 'inning']).agg({'total' : 'sum'}).reset_index()\n",
    "average_score_per_venue = average_score_per_venue.groupby(['venue', 'inning'])['total'].mean().reset_index()\n",
    "average_score_per_venue = average_score_per_venue[(average_score_per_venue['inning'] == 1) | (average_score_per_venue['inning'] == 2)]\n",
    "plt.figure(figsize=(19,8))\n",
    "plt.plot(average_score_per_venue[average_score_per_venue['inning']==1]['venue'],average_score_per_venue[average_score_per_venue['inning']==1]['total'],'-b',marker='o',ms=6,lw=2, label = 'inning1')\n",
    "plt.plot(average_score_per_venue[average_score_per_venue['inning']==2]['venue'],average_score_per_venue[average_score_per_venue['inning']==2]['total'],'-r',marker='o',ms=6,lw=2, label = 'inning2')\n",
    "plt.legend(loc = 'upper right', fontsize = 19)\n",
    "plt.xticks(fontsize = 15, rotation=90)\n",
    "plt.xlabel('Venues', fontsize=18)\n",
    "plt.ylabel('Average runs scored on venues', fontsize=16)\n",
    "plt.show()\n"
   ]
  },
  {
   "cell_type": "markdown",
   "metadata": {},
   "source": [
    "### Types of Dismissal and how often they occur"
   ]
  },
  {
   "cell_type": "code",
   "execution_count": null,
   "metadata": {},
   "outputs": [],
   "source": [
    "# Types of Dismissal and how often they occur\n",
    "dismissed = data_ipl.groupby(['wicket_kind']).count().reset_index()\n",
    "dismissed = dismissed[['wicket_kind', 'delivery']]\n",
    "dismissed = dismissed.rename(columns={'delivery' : 'count'})\n",
    "f, (ax1, ax2) = plt.subplots(1, 2, figsize=(15, 7))\n",
    "f.suptitle(\"Top 5 Dismissal Kind\", fontsize=14)\n",
    "\n",
    "dismissed.plot.bar(ax=ax1, legend=False)\n",
    "ax1.set_xticklabels(list(dismissed[\"wicket_kind\"]), fontsize=8)\n",
    "\n",
    "explode =[0.01,0.02,0.1,0.2,0.25,0.4,0.35,0.05,0.05]\n",
    "properties = ax2.pie(dismissed[\"count\"], labels=None, startangle=150, autopct='%1.1f%%', explode = explode)\n",
    "ax2.legend(bbox_to_anchor=(1,1), labels=dismissed['wicket_kind'])\n"
   ]
  },
  {
   "cell_type": "markdown",
   "metadata": {},
   "source": [
    "### Plot no. of boundaries across IPL seasons"
   ]
  },
  {
   "cell_type": "code",
   "execution_count": null,
   "metadata": {},
   "outputs": [],
   "source": [
    "# Plot no. of boundaries across IPL seasons\n",
    "boundaries_data = data_ipl.loc[:,['runs','year']]\n",
    "boundary_fours = boundaries_data[boundaries_data['runs']==4]\n",
    "fours = boundary_fours.groupby('year')['runs'].count()\n",
    "boundary_sixes = boundaries_data[boundaries_data['runs']==6]\n",
    "sixes = boundary_sixes.groupby('year')['runs'].count()\n",
    "plt.figure(figsize=(12,8))\n",
    "plt.plot(fours.index, fours,'-b',marker='o',ms=6,lw=2, label = 'fours')\n",
    "plt.plot(sixes.index, sixes,'-r',marker='o',ms=6,lw=2, label = 'sixes')\n",
    "plt.legend(loc = 'upper right', fontsize = 19)\n",
    "plt.xticks(fontsize = 15, rotation=90)\n",
    "plt.xlabel('IPL Seasons', fontsize=18)\n",
    "plt.ylabel('Total 4s and 6s scored across seasons', fontsize=16)\n",
    "plt.show()\n",
    "\n"
   ]
  },
  {
   "cell_type": "markdown",
   "metadata": {},
   "source": [
    "### What are the average statistics across all seasons?"
   ]
  },
  {
   "cell_type": "code",
   "execution_count": null,
   "metadata": {},
   "outputs": [],
   "source": [
    "# Average statistics across all seasons\n",
    "per_match_data = data_ipl.drop_duplicates(subset='match_code', keep='first').reset_index(drop=True)\n",
    "\n",
    "total_runs_per_season = data_ipl.groupby('year')['total'].sum()\n",
    "balls_delivered_per_season = data_ipl.groupby('year')['delivery'].count()\n",
    "no_of_match_played_per_season = per_match_data.groupby('year')['match_code'].count()\n",
    "avg_balls_per_match = balls_delivered_per_season/no_of_match_played_per_season\n",
    "avg_runs_per_match = total_runs_per_season/no_of_match_played_per_season\n",
    "avg_runs_per_ball = total_runs_per_season/balls_delivered_per_season\n",
    "avg_data = pd.DataFrame([no_of_match_played_per_season, avg_runs_per_match, avg_balls_per_match, avg_runs_per_ball])\n",
    "avg_data.index =['No.of Matches', 'Average Runs per Match', 'Average balls bowled per match', 'Average runs per ball']\n",
    "avg_data.T.plot(kind='bar', figsize = (12,10), colormap = 'coolwarm')\n",
    "plt.xlabel('Season')\n",
    "plt.ylabel('Average')\n",
    "plt.legend(loc=9,ncol=4);"
   ]
  }
 ],
 "metadata": {
  "kernelspec": {
   "display_name": "Python 3",
   "language": "python",
   "name": "python3"
  },
  "language_info": {
   "codemirror_mode": {
    "name": "ipython",
    "version": 3
   },
   "file_extension": ".py",
   "mimetype": "text/x-python",
   "name": "python",
   "nbconvert_exporter": "python",
   "pygments_lexer": "ipython3",
   "version": "3.6.5"
  }
 },
 "nbformat": 4,
 "nbformat_minor": 2
}
